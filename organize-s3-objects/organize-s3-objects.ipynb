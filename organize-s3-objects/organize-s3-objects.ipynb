{
 "cells": [
  {
   "cell_type": "code",
   "execution_count": 14,
   "metadata": {},
   "outputs": [],
   "source": [
    "import boto3\n",
    "from datetime import datetime"
   ]
  },
  {
   "cell_type": "code",
   "execution_count": 15,
   "metadata": {},
   "outputs": [],
   "source": [
    "today = datetime.today()"
   ]
  },
  {
   "cell_type": "code",
   "execution_count": 16,
   "metadata": {},
   "outputs": [
    {
     "data": {
      "text/plain": [
       "datetime.datetime(2023, 3, 11, 21, 50, 37, 262317)"
      ]
     },
     "execution_count": 16,
     "metadata": {},
     "output_type": "execute_result"
    }
   ],
   "source": [
    "today"
   ]
  },
  {
   "cell_type": "code",
   "execution_count": 17,
   "metadata": {},
   "outputs": [],
   "source": [
    "todays_date = today.strftime(\"%Y%m%d\")"
   ]
  },
  {
   "cell_type": "code",
   "execution_count": 18,
   "metadata": {},
   "outputs": [
    {
     "data": {
      "text/plain": [
       "'20230311'"
      ]
     },
     "execution_count": 18,
     "metadata": {},
     "output_type": "execute_result"
    }
   ],
   "source": [
    "todays_date"
   ]
  },
  {
   "cell_type": "code",
   "execution_count": 19,
   "metadata": {},
   "outputs": [],
   "source": [
    "s3_client = boto3.client('s3')"
   ]
  },
  {
   "cell_type": "code",
   "execution_count": 20,
   "metadata": {},
   "outputs": [],
   "source": [
    "bucket_name = \"ec2-state\""
   ]
  },
  {
   "cell_type": "code",
   "execution_count": 21,
   "metadata": {},
   "outputs": [],
   "source": [
    "lists_object_response = s3_client.list_objects_v2(Bucket=bucket_name)"
   ]
  },
  {
   "cell_type": "code",
   "execution_count": 22,
   "metadata": {},
   "outputs": [
    {
     "data": {
      "text/plain": [
       "{'ResponseMetadata': {'RequestId': 'CX5KZB9C9EGJQDYD',\n",
       "  'HostId': 'THu04kEIV9ttZAZP4CksKMvKoh2li0pxnKWjdKyqlrlshdztER2w2zIkrveToOxwVbR74OGNGMQ=',\n",
       "  'HTTPStatusCode': 200,\n",
       "  'HTTPHeaders': {'x-amz-id-2': 'THu04kEIV9ttZAZP4CksKMvKoh2li0pxnKWjdKyqlrlshdztER2w2zIkrveToOxwVbR74OGNGMQ=',\n",
       "   'x-amz-request-id': 'CX5KZB9C9EGJQDYD',\n",
       "   'date': 'Sat, 11 Mar 2023 21:50:39 GMT',\n",
       "   'x-amz-bucket-region': 'us-east-1',\n",
       "   'content-type': 'application/xml',\n",
       "   'transfer-encoding': 'chunked',\n",
       "   'server': 'AmazonS3'},\n",
       "  'RetryAttempts': 0},\n",
       " 'IsTruncated': False,\n",
       " 'Contents': [{'Key': 'build/As-an-experienced-DevOps-engineer-with-a-Bachelor.doc',\n",
       "   'LastModified': datetime.datetime(2023, 3, 11, 21, 50, 30, tzinfo=tzutc()),\n",
       "   'ETag': '\"c5a60c5343c25e47c4418d845960f00d\"',\n",
       "   'Size': 25600,\n",
       "   'StorageClass': 'STANDARD'},\n",
       "  {'Key': 'build/BALOGUN_RASHEED_C.pdf',\n",
       "   'LastModified': datetime.datetime(2023, 3, 11, 21, 50, 29, tzinfo=tzutc()),\n",
       "   'ETag': '\"e982193f149f0e41769fbb5ccec64ab6\"',\n",
       "   'Size': 263014,\n",
       "   'StorageClass': 'STANDARD'},\n",
       "  {'Key': 'build/terraform.tfstate',\n",
       "   'LastModified': datetime.datetime(2023, 3, 11, 11, 30, 36, tzinfo=tzutc()),\n",
       "   'ETag': '\"0f3288730ac77be52690591b03ba1ac5\"',\n",
       "   'Size': 180,\n",
       "   'StorageClass': 'STANDARD'}],\n",
       " 'Name': 'ec2-state',\n",
       " 'Prefix': '',\n",
       " 'MaxKeys': 1000,\n",
       " 'EncodingType': 'url',\n",
       " 'KeyCount': 3}"
      ]
     },
     "execution_count": 22,
     "metadata": {},
     "output_type": "execute_result"
    }
   ],
   "source": [
    "lists_object_response"
   ]
  },
  {
   "cell_type": "code",
   "execution_count": 23,
   "metadata": {},
   "outputs": [],
   "source": [
    "get_contents = lists_object_response.get(\"Contents\")"
   ]
  },
  {
   "cell_type": "code",
   "execution_count": 24,
   "metadata": {},
   "outputs": [
    {
     "data": {
      "text/plain": [
       "[{'Key': 'build/As-an-experienced-DevOps-engineer-with-a-Bachelor.doc',\n",
       "  'LastModified': datetime.datetime(2023, 3, 11, 21, 50, 30, tzinfo=tzutc()),\n",
       "  'ETag': '\"c5a60c5343c25e47c4418d845960f00d\"',\n",
       "  'Size': 25600,\n",
       "  'StorageClass': 'STANDARD'},\n",
       " {'Key': 'build/BALOGUN_RASHEED_C.pdf',\n",
       "  'LastModified': datetime.datetime(2023, 3, 11, 21, 50, 29, tzinfo=tzutc()),\n",
       "  'ETag': '\"e982193f149f0e41769fbb5ccec64ab6\"',\n",
       "  'Size': 263014,\n",
       "  'StorageClass': 'STANDARD'},\n",
       " {'Key': 'build/terraform.tfstate',\n",
       "  'LastModified': datetime.datetime(2023, 3, 11, 11, 30, 36, tzinfo=tzutc()),\n",
       "  'ETag': '\"0f3288730ac77be52690591b03ba1ac5\"',\n",
       "  'Size': 180,\n",
       "  'StorageClass': 'STANDARD'}]"
      ]
     },
     "execution_count": 24,
     "metadata": {},
     "output_type": "execute_result"
    }
   ],
   "source": [
    "get_contents"
   ]
  },
  {
   "cell_type": "code",
   "execution_count": 25,
   "metadata": {},
   "outputs": [],
   "source": [
    "get_all_s3_object_and_folder_names = []\n",
    "for item in get_contents:\n",
    "    s3_object_name = item.get(\"Key\")\n",
    "    get_all_s3_object_and_folder_names.append(s3_object_name)"
   ]
  },
  {
   "cell_type": "code",
   "execution_count": 26,
   "metadata": {},
   "outputs": [
    {
     "data": {
      "text/plain": [
       "['build/As-an-experienced-DevOps-engineer-with-a-Bachelor.doc',\n",
       " 'build/BALOGUN_RASHEED_C.pdf',\n",
       " 'build/terraform.tfstate']"
      ]
     },
     "execution_count": 26,
     "metadata": {},
     "output_type": "execute_result"
    }
   ],
   "source": [
    "get_all_s3_object_and_folder_names"
   ]
  },
  {
   "cell_type": "code",
   "execution_count": 27,
   "metadata": {},
   "outputs": [],
   "source": [
    "directory_name = todays_date + \"/\""
   ]
  },
  {
   "cell_type": "code",
   "execution_count": 28,
   "metadata": {},
   "outputs": [
    {
     "data": {
      "text/plain": [
       "'20230311/'"
      ]
     },
     "execution_count": 28,
     "metadata": {},
     "output_type": "execute_result"
    }
   ],
   "source": [
    "directory_name"
   ]
  }
 ],
 "metadata": {
  "kernelspec": {
   "display_name": "Python 3",
   "language": "python",
   "name": "python3"
  },
  "language_info": {
   "codemirror_mode": {
    "name": "ipython",
    "version": 3
   },
   "file_extension": ".py",
   "mimetype": "text/x-python",
   "name": "python",
   "nbconvert_exporter": "python",
   "pygments_lexer": "ipython3",
   "version": "3.10.10"
  },
  "orig_nbformat": 4
 },
 "nbformat": 4,
 "nbformat_minor": 2
}
