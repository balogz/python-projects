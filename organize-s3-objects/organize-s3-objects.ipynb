{
 "cells": [
  {
   "cell_type": "code",
   "execution_count": 48,
   "metadata": {},
   "outputs": [],
   "source": [
    "import boto3\n",
    "from datetime import datetime"
   ]
  },
  {
   "cell_type": "code",
   "execution_count": 49,
   "metadata": {},
   "outputs": [],
   "source": [
    "today = datetime.today()"
   ]
  },
  {
   "cell_type": "code",
   "execution_count": 50,
   "metadata": {},
   "outputs": [
    {
     "data": {
      "text/plain": [
       "datetime.datetime(2023, 3, 15, 13, 6, 42, 780594)"
      ]
     },
     "execution_count": 50,
     "metadata": {},
     "output_type": "execute_result"
    }
   ],
   "source": [
    "today"
   ]
  },
  {
   "cell_type": "code",
   "execution_count": 51,
   "metadata": {},
   "outputs": [],
   "source": [
    "todays_date = today.strftime(\"%Y%m%d\")"
   ]
  },
  {
   "cell_type": "code",
   "execution_count": 52,
   "metadata": {},
   "outputs": [
    {
     "data": {
      "text/plain": [
       "'20230315'"
      ]
     },
     "execution_count": 52,
     "metadata": {},
     "output_type": "execute_result"
    }
   ],
   "source": [
    "todays_date"
   ]
  },
  {
   "cell_type": "code",
   "execution_count": 53,
   "metadata": {},
   "outputs": [],
   "source": [
    "s3_client = boto3.client('s3')"
   ]
  },
  {
   "cell_type": "code",
   "execution_count": 54,
   "metadata": {},
   "outputs": [],
   "source": [
    "bucket_name = \"ec2-state\""
   ]
  },
  {
   "cell_type": "code",
   "execution_count": 55,
   "metadata": {},
   "outputs": [],
   "source": [
    "lists_object_response = s3_client.list_objects_v2(Bucket=bucket_name)"
   ]
  },
  {
   "cell_type": "code",
   "execution_count": 56,
   "metadata": {},
   "outputs": [
    {
     "data": {
      "text/plain": [
       "{'ResponseMetadata': {'RequestId': 'V5W9XK14K02XC5H8',\n",
       "  'HostId': 'REZ5qxEcodVr6iTB51EeyBS8wUCKsxrA3SuSzXPYn60p7NBcEwiQ3RYtO5qPFr2pjk2R4NFcwgE=',\n",
       "  'HTTPStatusCode': 200,\n",
       "  'HTTPHeaders': {'x-amz-id-2': 'REZ5qxEcodVr6iTB51EeyBS8wUCKsxrA3SuSzXPYn60p7NBcEwiQ3RYtO5qPFr2pjk2R4NFcwgE=',\n",
       "   'x-amz-request-id': 'V5W9XK14K02XC5H8',\n",
       "   'date': 'Wed, 15 Mar 2023 13:06:45 GMT',\n",
       "   'x-amz-bucket-region': 'us-east-1',\n",
       "   'content-type': 'application/xml',\n",
       "   'transfer-encoding': 'chunked',\n",
       "   'server': 'AmazonS3'},\n",
       "  'RetryAttempts': 0},\n",
       " 'IsTruncated': False,\n",
       " 'Contents': [{'Key': '20230315/',\n",
       "   'LastModified': datetime.datetime(2023, 3, 15, 12, 47, 55, tzinfo=tzutc()),\n",
       "   'ETag': '\"d41d8cd98f00b204e9800998ecf8427e\"',\n",
       "   'Size': 0,\n",
       "   'StorageClass': 'STANDARD'},\n",
       "  {'Key': 'Chapter 3 -Updated_test.tex',\n",
       "   'LastModified': datetime.datetime(2023, 3, 15, 12, 40, 58, tzinfo=tzutc()),\n",
       "   'ETag': '\"71876f49610e9b2ead1d86320d5d0926\"',\n",
       "   'Size': 11306,\n",
       "   'StorageClass': 'STANDARD'},\n",
       "  {'Key': 'build/terraform.tfstate',\n",
       "   'LastModified': datetime.datetime(2023, 3, 11, 11, 30, 36, tzinfo=tzutc()),\n",
       "   'ETag': '\"0f3288730ac77be52690591b03ba1ac5\"',\n",
       "   'Size': 180,\n",
       "   'StorageClass': 'STANDARD'}],\n",
       " 'Name': 'ec2-state',\n",
       " 'Prefix': '',\n",
       " 'MaxKeys': 1000,\n",
       " 'EncodingType': 'url',\n",
       " 'KeyCount': 3}"
      ]
     },
     "execution_count": 56,
     "metadata": {},
     "output_type": "execute_result"
    }
   ],
   "source": [
    "lists_object_response"
   ]
  },
  {
   "cell_type": "code",
   "execution_count": 57,
   "metadata": {},
   "outputs": [],
   "source": [
    "get_contents = lists_object_response.get(\"Contents\")"
   ]
  },
  {
   "cell_type": "code",
   "execution_count": 58,
   "metadata": {},
   "outputs": [
    {
     "data": {
      "text/plain": [
       "[{'Key': '20230315/',\n",
       "  'LastModified': datetime.datetime(2023, 3, 15, 12, 47, 55, tzinfo=tzutc()),\n",
       "  'ETag': '\"d41d8cd98f00b204e9800998ecf8427e\"',\n",
       "  'Size': 0,\n",
       "  'StorageClass': 'STANDARD'},\n",
       " {'Key': 'Chapter 3 -Updated_test.tex',\n",
       "  'LastModified': datetime.datetime(2023, 3, 15, 12, 40, 58, tzinfo=tzutc()),\n",
       "  'ETag': '\"71876f49610e9b2ead1d86320d5d0926\"',\n",
       "  'Size': 11306,\n",
       "  'StorageClass': 'STANDARD'},\n",
       " {'Key': 'build/terraform.tfstate',\n",
       "  'LastModified': datetime.datetime(2023, 3, 11, 11, 30, 36, tzinfo=tzutc()),\n",
       "  'ETag': '\"0f3288730ac77be52690591b03ba1ac5\"',\n",
       "  'Size': 180,\n",
       "  'StorageClass': 'STANDARD'}]"
      ]
     },
     "execution_count": 58,
     "metadata": {},
     "output_type": "execute_result"
    }
   ],
   "source": [
    "get_contents"
   ]
  },
  {
   "cell_type": "code",
   "execution_count": 59,
   "metadata": {},
   "outputs": [],
   "source": [
    "get_all_s3_object_and_folder_names = []\n",
    "for item in get_contents:\n",
    "    s3_object_name = item.get(\"Key\")\n",
    "    get_all_s3_object_and_folder_names.append(s3_object_name)"
   ]
  },
  {
   "cell_type": "code",
   "execution_count": 60,
   "metadata": {},
   "outputs": [
    {
     "data": {
      "text/plain": [
       "['20230315/', 'Chapter 3 -Updated_test.tex', 'build/terraform.tfstate']"
      ]
     },
     "execution_count": 60,
     "metadata": {},
     "output_type": "execute_result"
    }
   ],
   "source": [
    "get_all_s3_object_and_folder_names"
   ]
  },
  {
   "cell_type": "code",
   "execution_count": 61,
   "metadata": {},
   "outputs": [],
   "source": [
    "directory_name = todays_date + \"/\""
   ]
  },
  {
   "cell_type": "code",
   "execution_count": 62,
   "metadata": {},
   "outputs": [
    {
     "data": {
      "text/plain": [
       "'20230315/'"
      ]
     },
     "execution_count": 62,
     "metadata": {},
     "output_type": "execute_result"
    }
   ],
   "source": [
    "directory_name"
   ]
  },
  {
   "cell_type": "code",
   "execution_count": 63,
   "metadata": {},
   "outputs": [],
   "source": [
    "if directory_name not in get_all_s3_object_and_folder_names:\n",
    "    s3_client.put_object(Bucket=bucket_name, Key=(directory_name))"
   ]
  },
  {
   "cell_type": "code",
   "execution_count": 64,
   "metadata": {},
   "outputs": [],
   "source": [
    "for item in get_contents:\n",
    "    object_creation_date = item.get(\"LastModified\").strftime(\"%Y%m%d\") + \"/\"\n",
    "    object_name = item.get(\"Key\")\n",
    "\n",
    "    if object_creation_date == directory_name and \"/\" not in object_name:\n",
    "        s3_client.copy_object(Bucket=bucket_name, CopySource=bucket_name+\"/\"+object_name, Key=directory_name+object_name)"
   ]
  }
 ],
 "metadata": {
  "kernelspec": {
   "display_name": "Python 3",
   "language": "python",
   "name": "python3"
  },
  "language_info": {
   "codemirror_mode": {
    "name": "ipython",
    "version": 3
   },
   "file_extension": ".py",
   "mimetype": "text/x-python",
   "name": "python",
   "nbconvert_exporter": "python",
   "pygments_lexer": "ipython3",
   "version": "3.10.10"
  },
  "orig_nbformat": 4
 },
 "nbformat": 4,
 "nbformat_minor": 2
}
